{
 "cells": [
  {
   "cell_type": "markdown",
   "id": "27179b72",
   "metadata": {},
   "source": [
    "# Pattern matching"
   ]
  },
  {
   "cell_type": "code",
   "execution_count": 1,
   "id": "5b478097",
   "metadata": {},
   "outputs": [
    {
     "data": {
      "text/plain": [
       "['abc', 'abc', 'abc']"
      ]
     },
     "execution_count": 1,
     "metadata": {},
     "output_type": "execute_result"
    }
   ],
   "source": [
    "import re\n",
    "re.findall('abc', 'kasdcfghikabcrjklabccaabcc')"
   ]
  },
  {
   "cell_type": "code",
   "execution_count": 3,
   "id": "cfcff505",
   "metadata": {},
   "outputs": [
    {
     "name": "stdout",
     "output_type": "stream",
     "text": [
      "abc\n",
      "abc\n",
      "abc\n"
     ]
    }
   ],
   "source": [
    "iterator = re.finditer('abc', 'kasdcfghikabcrjklabccaabcc')\n",
    "for match in iterator:\n",
    "    print(match.group())"
   ]
  },
  {
   "cell_type": "markdown",
   "id": "ad471f38",
   "metadata": {},
   "source": [
    "## Square brackets [], \n",
    "#### used to pass a range say [a-z] or a set of charaters like [abcd] for finding them individually"
   ]
  },
  {
   "cell_type": "code",
   "execution_count": 4,
   "id": "dedba8f6",
   "metadata": {},
   "outputs": [
    {
     "data": {
      "text/plain": [
       "['a', 'c', 'a', 'b', 'c', 'a', 'b', 'c', 'c', 'a', 'a', 'b', 'c', 'c']"
      ]
     },
     "execution_count": 4,
     "metadata": {},
     "output_type": "execute_result"
    }
   ],
   "source": [
    "re.findall('[abc]', 'kasdcfghikabcrjklabccaabcc')"
   ]
  },
  {
   "cell_type": "code",
   "execution_count": 5,
   "id": "02c41b01",
   "metadata": {},
   "outputs": [
    {
     "data": {
      "text/plain": [
       "['a',\n",
       " 'd',\n",
       " 'c',\n",
       " 'e',\n",
       " 'e',\n",
       " 'a',\n",
       " 'b',\n",
       " 'c',\n",
       " 'e',\n",
       " 'a',\n",
       " 'b',\n",
       " 'c',\n",
       " 'c',\n",
       " 'a',\n",
       " 'a',\n",
       " 'b',\n",
       " 'c',\n",
       " 'c']"
      ]
     },
     "execution_count": 5,
     "metadata": {},
     "output_type": "execute_result"
    }
   ],
   "source": [
    "re.findall('[a-e]', 'kasdcfeghikeabcrjkelabccaabcc')"
   ]
  },
  {
   "cell_type": "code",
   "execution_count": 6,
   "id": "134fa092",
   "metadata": {},
   "outputs": [
    {
     "data": {
      "text/plain": [
       "10"
      ]
     },
     "execution_count": 6,
     "metadata": {},
     "output_type": "execute_result"
    }
   ],
   "source": [
    "len(re.findall('[0-9]', '1556189342@janhavik$###!'))"
   ]
  },
  {
   "cell_type": "code",
   "execution_count": 7,
   "id": "0c8d9a6d",
   "metadata": {},
   "outputs": [
    {
     "name": "stdout",
     "output_type": "stream",
     "text": [
      "True\n"
     ]
    }
   ],
   "source": [
    "# m = re.findall('[0-9]'*4, '15561@janhavik$###!89342')\n",
    "m = re.findall('[0-9][0-9][0-9][0-9]', '15561@janhavik$###!89342')\n",
    "if len(m)!=0:\n",
    "    print(True)\n",
    "else:\n",
    "    print(False)"
   ]
  },
  {
   "cell_type": "code",
   "execution_count": 8,
   "id": "32b230e0",
   "metadata": {},
   "outputs": [
    {
     "data": {
      "text/plain": [
       "['.', '.', '.', '.', '.', '.', '.', '.', '.', '.', '.', '.', '.', '.']"
      ]
     },
     "execution_count": 8,
     "metadata": {},
     "output_type": "execute_result"
    }
   ],
   "source": [
    "re.findall('[....]', 'abcd1234***1256e3##>>>....99hjk....poosoow......')"
   ]
  },
  {
   "cell_type": "markdown",
   "id": "a11cfef5",
   "metadata": {},
   "source": [
    "## Caps ^ \n",
    "**it represents a complement i.e as used in statistics, all the values except 123 in [^123] But the position matters, if applied in the beginning suggest everything except the charaters mentioned in the bracket whereas at the end suggests only those characters that are present in the bracket**"
   ]
  },
  {
   "cell_type": "code",
   "execution_count": 9,
   "id": "97a98794",
   "metadata": {},
   "outputs": [
    {
     "name": "stdout",
     "output_type": "stream",
     "text": [
      "avgdbjukjk\n"
     ]
    }
   ],
   "source": [
    "## No digit and no character should be present in the documents\n",
    "doc = ['abcd:;,./#%*&@1!!3wt2','y2y2oindsd1i92essax=={{]]','..hdwhs282!!???++===','avgdbjukjk']\n",
    "for d in doc:\n",
    "    m = re.findall('[#%*0-9#@!&{:;,.?=+^]', d)\n",
    "    if len(m)!=0:\n",
    "        pass\n",
    "    else:\n",
    "        print(d)"
   ]
  },
  {
   "cell_type": "code",
   "execution_count": 10,
   "id": "8ad13bb6",
   "metadata": {},
   "outputs": [
    {
     "name": "stdout",
     "output_type": "stream",
     "text": [
      "avgdbjukjk\n"
     ]
    }
   ],
   "source": [
    "##or\n",
    "doc = ['abcd:;,./#%*&@1!!3wt2','y2y2oindsd1i92essax=={{]]','..hdwhs282!!???++===','avgdbjukjk']\n",
    "for d in doc:\n",
    "    m = re.findall('[^#%*0-9#@!&{:;,.?=+]', d)\n",
    "    if len(m) != len(d):\n",
    "        pass\n",
    "    else:\n",
    "        print(d)"
   ]
  },
  {
   "cell_type": "code",
   "execution_count": 11,
   "id": "20104457",
   "metadata": {},
   "outputs": [
    {
     "name": "stdout",
     "output_type": "stream",
     "text": [
      "avgdbjukjk\n"
     ]
    }
   ],
   "source": [
    "##or\n",
    "doc = ['abcd:;,./#%*&@1!!3wt2','y2y2oindsd1i92essax=={{]]','..hdwhs282!!???++===','avgdbjukjk']\n",
    "for d in doc:\n",
    "    m = re.findall('[#%*0-9#@!&{:;,.?=+]', d)\n",
    "    if len(m) > 0:\n",
    "        pass\n",
    "    else:\n",
    "        print(d)"
   ]
  },
  {
   "cell_type": "markdown",
   "id": "ca460aa7",
   "metadata": {},
   "source": [
    "## Backslash '\\\\'"
   ]
  },
  {
   "cell_type": "code",
   "execution_count": 6,
   "id": "e081e5c1",
   "metadata": {},
   "outputs": [
    {
     "name": "stdout",
     "output_type": "stream",
     "text": [
      "There are 2 backslash in abcd:;,.\\#%*&@1!!3wt2\\pklm\n",
      "There are 6 backslash in y2y2oinds\\d1i\\/\\/\\/\\//92es\\sax=={{]]\n",
      "There are 3 backslash in ..hdwhs\\282!!?\\??++=\\==\n",
      "There are 0 backslash in avgdbjukjk\n"
     ]
    }
   ],
   "source": [
    "doc = ['abcd:;,.\\#%*&@1!!3wt2\\pklm','y2y2oinds\\d1i\\/\\/\\/\\//92es\\\\sax=={{]]','..hdwhs\\\\282!!?\\\\??++=\\==','avgdbjukjk']\n",
    "s = '[\\\\\\]'\n",
    "for d in doc:\n",
    "    m = re.findall(s, d)\n",
    "    print(f\"There are {len(m)} backslash in {d}\")"
   ]
  },
  {
   "cell_type": "markdown",
   "id": "9af7a36e",
   "metadata": {},
   "source": [
    "**Here when we have two consecutive backslashes i.e \\\\, then it represents a single backslash, thus in case of 3rd string we have only 3 backslash in total. Similarly \\\\\\ = 2 backshalsh. To avoid this while counting the backslash, we can use 'r' to represent our string as a raw string and thus backslash will be treated as a regular character rather than a special character** "
   ]
  },
  {
   "cell_type": "code",
   "execution_count": 7,
   "id": "ba3f0967",
   "metadata": {},
   "outputs": [
    {
     "name": "stdout",
     "output_type": "stream",
     "text": [
      "There are 2 backslash in abcd:;,.\\n#%*&@1!!3wt2\\pklm\n",
      "There are 7 backslash in y2y2oinds\\td1i\\/\\/\\/\\//92es\\\\sax=={{]]\n",
      "There are 5 backslash in ..hdwhs\\\\282!!?\\\\??++=\\==\n",
      "There are 0 backslash in avgdbjukjk\n"
     ]
    }
   ],
   "source": [
    "doc = [r'abcd:;,.\\n#%*&@1!!3wt2\\pklm',r'y2y2oinds\\td1i\\/\\/\\/\\//92es\\\\sax=={{]]',r'..hdwhs\\\\282!!?\\\\??++=\\==',r'avgdbjukjk']\n",
    "s = '[\\\\\\]'\n",
    "for d in doc:\n",
    "    m = re.findall(s, d)\n",
    "    print(f\"There are {len(m)} backslash in {d}\")"
   ]
  },
  {
   "cell_type": "markdown",
   "id": "8442fc1f",
   "metadata": {},
   "source": [
    "### Count Backslash '\\' and square bracket '[]' in the document"
   ]
  },
  {
   "cell_type": "code",
   "execution_count": 12,
   "id": "441949fe",
   "metadata": {},
   "outputs": [
    {
     "name": "stdout",
     "output_type": "stream",
     "text": [
      "There are 4 backslash in abcd:;,.\\n#%*&[@1!!3wt2\\]pklm\n",
      "There are 17 backslash in y2y2[[[[oind]]]]s\\td1i\\/\\/\\/\\//92es\\\\sax=={{]]\n",
      "There are 10 backslash in ..hdwhs\\\\282[[]]]!!?\\\\??++=\\==\n",
      "There are 0 backslash in avgdbjukjk\n"
     ]
    }
   ],
   "source": [
    "doc = [r'abcd:;,.\\n#%*&[@1!!3wt2\\]pklm',r'y2y2[[[[oind]]]]s\\td1i\\/\\/\\/\\//92es\\\\sax=={{]]',r'..hdwhs\\\\282[[]]]!!?\\\\??++=\\==',r'avgdbjukjk']\n",
    "s = '[\\\\\\[\\]]'\n",
    "for d in doc:\n",
    "    m = re.findall(s, d)\n",
    "    print(f\"There are {len(m)} backslash in {d}\")"
   ]
  },
  {
   "cell_type": "code",
   "execution_count": 13,
   "id": "aedff2e1",
   "metadata": {},
   "outputs": [
    {
     "name": "stdout",
     "output_type": "stream",
     "text": [
      "There are 4 backslash in abcd:;,.\\n#%*&[@1!!3wt2\\]pklm\n",
      "There are 17 backslash in y2y2[[[[oind]]]]s\\td1i\\/\\/\\/\\//92es\\\\sax=={{]]\n",
      "There are 10 backslash in ..hdwhs\\\\282[[]]]!!?\\\\??++=\\==\n",
      "There are 0 backslash in avgdbjukjk\n"
     ]
    }
   ],
   "source": [
    "doc = [r'abcd:;,.\\n#%*&[@1!!3wt2\\]pklm',r'y2y2[[[[oind]]]]s\\td1i\\/\\/\\/\\//92es\\\\sax=={{]]',r'..hdwhs\\\\282[[]]]!!?\\\\??++=\\==',r'avgdbjukjk']\n",
    "s = '[\\[\\]\\\\\\]'\n",
    "for d in doc:\n",
    "    m = re.findall(s, d)\n",
    "    print(f\"There are {len(m)} backslash in {d}\")"
   ]
  },
  {
   "cell_type": "code",
   "execution_count": 22,
   "id": "3b394402",
   "metadata": {},
   "outputs": [
    {
     "name": "stdout",
     "output_type": "stream",
     "text": [
      "Number of occurences of \\section are 1\n",
      "Number of occurences of \\section are 3\n"
     ]
    }
   ],
   "source": [
    "## Count all the occureces of \\section\n",
    "s = '\\\\\\section'\n",
    "doc = ['I was in a meeting where we discussed this \\section from \\\\\\\\\\ the document.', 'It becomes difficult to handle these \\section \\section \\\\ all the time \\section.']\n",
    "for d in doc:\n",
    "    m = len(re.findall(s, d))\n",
    "    print(f'Number of occurences of \\section are {m}')"
   ]
  },
  {
   "cell_type": "code",
   "execution_count": 21,
   "id": "8087f35e",
   "metadata": {},
   "outputs": [
    {
     "name": "stdout",
     "output_type": "stream",
     "text": [
      "\\\\section\n"
     ]
    }
   ],
   "source": [
    "print('\\\\\\section')"
   ]
  },
  {
   "cell_type": "code",
   "execution_count": 33,
   "id": "81d13086",
   "metadata": {},
   "outputs": [
    {
     "name": "stdout",
     "output_type": "stream",
     "text": [
      "Number of occurrences of \\section are 1\n",
      "Number of occurrences of \\section are 3\n"
     ]
    }
   ],
   "source": [
    "##OR\n",
    "s = '[\\\\\\]section'\n",
    "doc = ['I was in a meeting where we discussed this \\section from \\\\\\\\\\ the document.', 'It becomes difficult to handle these \\section \\section \\\\ all the time \\section.']\n",
    "for d in doc:\n",
    "    m = len(re.findall(s, d))\n",
    "    print(f'Number of occurrences of \\section are {m}')"
   ]
  },
  {
   "cell_type": "markdown",
   "id": "84b01284",
   "metadata": {},
   "source": [
    "### Count spaces, digits, underscores in the document\n",
    "- /d - Represents the digit class [0-9]\n",
    "- /s - Represent the whitespaces\n",
    "- /w - Represents the class of {A-Z,_, 0-9}"
   ]
  },
  {
   "cell_type": "code",
   "execution_count": 34,
   "id": "0f7e1beb",
   "metadata": {},
   "outputs": [
    {
     "name": "stdout",
     "output_type": "stream",
     "text": [
      "Number of occurrences are 15 and they are [' ', ' ', '1', '5', '6', '7', '0', '0', '_', '_', '_', ' ', ' ', ' ', ' ']\n",
      "Number of occurrences are 21 and they are [' ', '0', '9', '8', '8', '6', '5', '_', ' ', '_', ' ', ' ', '_', ' ', ' ', ' ', ' ', ' ', ' ', ' ', ' ']\n"
     ]
    }
   ],
   "source": [
    "s = '[\\s\\d_]'\n",
    "doc = ['I was 1567inameetingw00here_wediscussed_this\\section_ from \\\\\\\\\\ the document.', 'It 098865_becomes _difficult to handle_ these \\section \\section \\\\ all the time \\section.']\n",
    "for d in doc:\n",
    "    m = re.findall(s, d)\n",
    "    print(f'Number of occurrences are {len(m)} and they are {m}')"
   ]
  },
  {
   "cell_type": "code",
   "execution_count": 31,
   "id": "ab265181",
   "metadata": {},
   "outputs": [
    {
     "name": "stdout",
     "output_type": "stream",
     "text": [
      "Number of occurences are 3\n"
     ]
    }
   ],
   "source": [
    "d = 'R_m tkl\\njk'\n",
    "m = len(re.findall(s, d))\n",
    "print(f'Number of occurences are {m}')"
   ]
  },
  {
   "cell_type": "markdown",
   "id": "8106a173",
   "metadata": {},
   "source": [
    "## Meta Character '*'\n",
    "Used to find the recurrence i.e repetation of pattern"
   ]
  },
  {
   "cell_type": "code",
   "execution_count": 37,
   "id": "20b37d0d",
   "metadata": {},
   "outputs": [
    {
     "name": "stdout",
     "output_type": "stream",
     "text": [
      "Number of occurrences are 0 and they are []\n",
      "Number of occurrences are 3 and they are ['Yahoo', 'Yahooooo', 'Yahoooooooooooo']\n"
     ]
    }
   ],
   "source": [
    "s = 'Yahooo*' #requires atleast two o's\n",
    "doc = ['Meena Menaaaaaaaa Menaaaaaaaaaaaaaaaaaaaaaa', 'Yaho Yahoo Yahooooo Yahoooooooooooo']\n",
    "for d in doc:\n",
    "    m = re.findall(s, d)\n",
    "    print(f'Number of occurrences are {len(m)} and they are {m}')"
   ]
  },
  {
   "cell_type": "code",
   "execution_count": 46,
   "id": "347c7d7d",
   "metadata": {},
   "outputs": [
    {
     "name": "stdout",
     "output_type": "stream",
     "text": [
      "Longest substring is ['gsjhsbjcbwhdiuhw_1y87y82wedkjasnxkziijoo'] with length 40 \n",
      "['gsjhsbjcbwhdiuhw_1y87y82wedkjasnxkziijoo']\n",
      "Longest substring is ['quwhiu723y78wqyuha'] with length 18 \n",
      "['_2hewiuqhiu', 'quwhiu723y78wqyuha', 'w8e']\n",
      "Longest substring is ['uyqsgqga9'] with length 9 \n",
      "['uyqsgqga9', 'wa', 'W8179']\n"
     ]
    }
   ],
   "source": [
    "#Find all the possible sub-strings of differet lengths\n",
    "s = '[_a-zA-Z]\\w*'\n",
    "doc = ['134256gsjhsbjcbwhdiuhw_1y87y82wedkjasnxkziijoo', '_2hewiuqhiu  quwhiu723y78wqyuha&&87892w8e', '35247615765uyqsgqga9`1wa&*(79W8179)']\n",
    "for d in doc:\n",
    "    m = re.findall(s, d)\n",
    "    k = max([len(i) for i in m])\n",
    "    r = [ i for i in m if len(i)==k]\n",
    "    print(f'Longest substring is {r} with length {k} ')\n",
    "    print(m)"
   ]
  },
  {
   "cell_type": "code",
   "execution_count": 53,
   "id": "72e6dcb0",
   "metadata": {},
   "outputs": [
    {
     "name": "stdout",
     "output_type": "stream",
     "text": [
      "syntax error\n",
      "OK\n",
      "syntax error\n",
      "OK\n",
      "OK\n"
     ]
    }
   ],
   "source": [
    "#HW: Checking for valid function or variable name:\n",
    "s = '[_a-zA-Z]\\w*'\n",
    "doc = ['13iijoo', '_2hewiuqhiu', '35&*(79W8179)', 'john', 'k123']\n",
    "for d in doc:\n",
    "    m = re.findall(s, d)\n",
    "    if len(m[0]) == len(d):\n",
    "        print('OK')\n",
    "    else:\n",
    "        print('syntax error')"
   ]
  },
  {
   "cell_type": "markdown",
   "id": "3f4c5fc6",
   "metadata": {},
   "source": [
    "## '+' meta character\n",
    "Unlike Aterisk + searches for the character from 1 to infitinity i.e aleast once the character is required."
   ]
  },
  {
   "cell_type": "code",
   "execution_count": 2,
   "id": "d7ee1af2",
   "metadata": {},
   "outputs": [
    {
     "name": "stdout",
     "output_type": "stream",
     "text": [
      "['Yahoo', 'Yahoooooooooooo', 'Yahooooo']\n"
     ]
    }
   ],
   "source": [
    "d = 'YahooYahooooooooooooYahoYahooooo'\n",
    "s = 'Yahoo+'\n",
    "m = re.findall(s, d)\n",
    "print(m)"
   ]
  },
  {
   "cell_type": "markdown",
   "id": "b5385f0e",
   "metadata": {},
   "source": [
    "## '?' meta character\n",
    "Find the repeated pattern from 0 to 1 times"
   ]
  },
  {
   "cell_type": "code",
   "execution_count": 4,
   "id": "acf486cc",
   "metadata": {},
   "outputs": [
    {
     "name": "stdout",
     "output_type": "stream",
     "text": [
      "['Yahoo', 'Yahoo', 'Yahoo', 'Yaoo', 'Yaoo']\n"
     ]
    }
   ],
   "source": [
    "d = 'YahooYahooooooooooooYahoYahoooooYaooooYaoYaooooooo'\n",
    "s = 'Yah?oo'\n",
    "m = re.findall(s, d)\n",
    "print(m)"
   ]
  },
  {
   "cell_type": "markdown",
   "id": "30c539cf",
   "metadata": {},
   "source": [
    "**Here we can see the string is purned and has selected only the string by cliping it upto 2 o's with optional h**"
   ]
  },
  {
   "cell_type": "code",
   "execution_count": 5,
   "id": "282395bb",
   "metadata": {},
   "outputs": [
    {
     "name": "stdout",
     "output_type": "stream",
     "text": [
      "['Yahoo', 'Yahoooooooooooo', 'Yahooooo', 'Yaoooo', 'Yaooooooo']\n"
     ]
    }
   ],
   "source": [
    "#To avoid purning\n",
    "d = 'YahooYahooooooooooooYahoYahoooooYaooooYaoYaooooooo'\n",
    "s = 'Yah?oo+'\n",
    "m = re.findall(s, d)\n",
    "print(m)"
   ]
  },
  {
   "cell_type": "markdown",
   "id": "ff848da3",
   "metadata": {},
   "source": [
    "## '{}' Curly brackets meta character\n",
    "Used to find the patterns repeated within a specific range say m to n as {m,n}"
   ]
  },
  {
   "cell_type": "code",
   "execution_count": 10,
   "id": "3cd6439e",
   "metadata": {},
   "outputs": [
    {
     "name": "stdout",
     "output_type": "stream",
     "text": [
      "['Yahoo', 'Yahoo', 'ooooo', 'ooooo', 'YahoY', 'ahooo', 'ooYao', 'oooYa', 'oYaoo', 'ooooo']\n"
     ]
    }
   ],
   "source": [
    "d = 'YahooYahooooooooooooYahoYahoooooYaooooYaoYaooooooo'\n",
    "s = '[a-zA-Z]{2,5}'\n",
    "m = re.findall(s, d)\n",
    "print(m)"
   ]
  },
  {
   "cell_type": "code",
   "execution_count": 16,
   "id": "df528176",
   "metadata": {},
   "outputs": [
    {
     "name": "stdout",
     "output_type": "stream",
     "text": [
      "['12345', '87238', '17487', '36649', '87239', '123', '88132', '18', '65987', '89']\n"
     ]
    }
   ],
   "source": [
    "d = '123455hkwhgsjaudkqahwk87238174873664987239edngucatsyi7eugcbmsbdcmbk123yrhjsgcmsbcjqwhr8813218qeuhdsfkxcnb ms&&rr6598789???/ku'\n",
    "s = '[0-9]{2,5}'\n",
    "#or\n",
    "# s = '\\d{2,5}'\n",
    "m = re.findall(s, d)\n",
    "print(m)"
   ]
  },
  {
   "cell_type": "markdown",
   "id": "c96fe419",
   "metadata": {},
   "source": [
    "## Pattern Objects using regular expressions or regex"
   ]
  },
  {
   "cell_type": "code",
   "execution_count": 3,
   "id": "b95c80b7",
   "metadata": {},
   "outputs": [
    {
     "data": {
      "text/plain": [
       "['a234122b', 'Ab']"
      ]
     },
     "execution_count": 3,
     "metadata": {},
     "output_type": "execute_result"
    }
   ],
   "source": [
    "p = re.compile('a\\d*b', re.IGNORECASE)\n",
    "p.findall('a234122b23456Abghjgjhjfh')"
   ]
  },
  {
   "cell_type": "markdown",
   "id": "a608b4e0",
   "metadata": {},
   "source": [
    "## Match and Search\n",
    "- match() : Determine if re matches at the beginning of the string.\n",
    "- search() : Scan through the string to find the location where the string matches.\n",
    "- Both return only the first occurence of the pattern"
   ]
  },
  {
   "cell_type": "code",
   "execution_count": 24,
   "id": "7380353b",
   "metadata": {},
   "outputs": [
    {
     "name": "stdout",
     "output_type": "stream",
     "text": [
      "14\n",
      "<class 're.Pattern'>\n",
      "gjasjyduyeuyiqwyeoihiu7eiuwh9874695641298uehdas##   .\n"
     ]
    }
   ],
   "source": [
    "#Count space character if any in the beginning of the document\n",
    "d = '    \\t \\t\\t\\t  \\t  gjasjyduyeuyiqwyeoihiu7eiuwh9874695641298uehdas##   .'\n",
    "p = re.compile('\\s*')\n",
    "m = p.match(d)\n",
    "# m.span()\n",
    "# len(m.group())\n",
    "print(m.end())\n",
    "print(type(p))\n",
    "print(d[m.end():])"
   ]
  },
  {
   "cell_type": "code",
   "execution_count": 30,
   "id": "f2d293ad",
   "metadata": {},
   "outputs": [
    {
     "name": "stdout",
     "output_type": "stream",
     "text": [
      "7\n",
      "21\n",
      "<class 're.Pattern'>\n",
      "gjasjyduyeuyiqwyeoihiu7eiuwh9874695641298uehdas##   .\n"
     ]
    }
   ],
   "source": [
    "d = 'wdhewgd    \\t \\t\\t\\t  \\t  gjasjyduyeuyiqwyeoihiu7eiuwh9874695641298uehdas##   .'\n",
    "p = re.compile('\\s+')\n",
    "m = p.search(d)\n",
    "# m.span()\n",
    "# len(m.group())\n",
    "print(m.start())\n",
    "print(m.end())\n",
    "print(type(p))\n",
    "print(d[m.end():])"
   ]
  },
  {
   "cell_type": "code",
   "execution_count": 79,
   "id": "92a7eb20",
   "metadata": {},
   "outputs": [
    {
     "name": "stdout",
     "output_type": "stream",
     "text": [
      "In document 134256gsjhsbjcbwhdiuhw_1y87y82wedkjasnxkziijoo following are location of the valid variable names\n",
      "(6, 46)\n",
      "In document _2hewiuqhiu  quwhiu723y78wqyuha&&87892w8e following are location of the valid variable names\n",
      "(0, 11)\n",
      "(13, 31)\n",
      "(38, 41)\n",
      "In document 35247615765uyqsgqga9`1wa&*(79W8179) following are location of the valid variable names\n",
      "(11, 20)\n",
      "(22, 24)\n",
      "(29, 34)\n"
     ]
    }
   ],
   "source": [
    "#List all the location where valid variable name exists\n",
    "#Find all the possible sub-strings of differet lengths\n",
    "s = '[_a-zA-Z]\\w*'\n",
    "doc = ['134256gsjhsbjcbwhdiuhw_1y87y82wedkjasnxkziijoo', '_2hewiuqhiu  quwhiu723y78wqyuha&&87892w8e', '35247615765uyqsgqga9`1wa&*(79W8179)']\n",
    "for d in doc:\n",
    "    r = re.finditer(s, d)\n",
    "    print(f'In document {d} following are location of the valid variable names')\n",
    "    for i in r:\n",
    "        p = re.compile(i.group())\n",
    "        m = p.search(d)\n",
    "        print(m.span())"
   ]
  },
  {
   "cell_type": "code",
   "execution_count": 83,
   "id": "05b0d8f5",
   "metadata": {},
   "outputs": [
    {
     "name": "stdout",
     "output_type": "stream",
     "text": [
      "(6, 57)\n",
      "(59, 77)\n",
      "(84, 107)\n",
      "(109, 111)\n",
      "(116, 121)\n"
     ]
    }
   ],
   "source": [
    "s = '[_a-zA-Z]\\w*'\n",
    "doc = ('134256gsjhsbjcbwhdiuhw_1y87y82wedkjasnxkziijoo' '_2hewiuqhiu  quwhiu723y78wqyuha&&87892w8e' '35247615765uyqsgqga9`1wa&*(79W8179)')\n",
    "p = re.compile(s)  #if s does not contain A-Z then we will use the flag = 'IGNORECASE'\n",
    "match = p.finditer(doc)\n",
    "for m in match:\n",
    "    print(m.span())"
   ]
  },
  {
   "cell_type": "markdown",
   "id": "90d8b86e",
   "metadata": {},
   "source": [
    "## Logical Meta Character or '|'\n",
    "It is usually used to join regular expressions"
   ]
  },
  {
   "cell_type": "code",
   "execution_count": 87,
   "id": "3c9d8304",
   "metadata": {},
   "outputs": [
    {
     "name": "stdout",
     "output_type": "stream",
     "text": [
      "22\n"
     ]
    }
   ],
   "source": [
    "doc = ('sfaGSYUQWGE12-0312||\\\\||||||\\\\\\\\\\\\\\\\\\\\\\\\[]]DBSJBDJWEDJHWED[JDGHGDE]GWGEU272Y874682734YRHDBX3233\\\\\\\\\\\\\\[[[]]]wfsahjzxv      ')\n",
    "s = '[\\[\\]]'\n",
    "r = '[\\\\\\]'\n",
    "p = re.compile(s+'|'+r)\n",
    "print(len(p.findall(doc)))"
   ]
  },
  {
   "cell_type": "markdown",
   "id": "80dfebad",
   "metadata": {},
   "source": [
    "## The meta character hat i.e '^', \n",
    "But if it is in classes i.e a-z,0-9, then it will work as a compliment otherwise if added before a string it will serve the purpose to find the strings or sentences or documents beginning with the given regular expression"
   ]
  },
  {
   "cell_type": "code",
   "execution_count": 90,
   "id": "94363b58",
   "metadata": {},
   "outputs": [
    {
     "name": "stdout",
     "output_type": "stream",
     "text": [
      "<re.Match object; span=(0, 4), match='From'>\n",
      "None\n"
     ]
    }
   ],
   "source": [
    "d1 = 'From time to time she was instructed by her mentor to study hard.' \n",
    "d2 = 'Time to time she was instructed by her mentor to study hard.'\n",
    "s = '^From'\n",
    "print(re.search(s, d1))\n",
    "print(re.search(s, d2))"
   ]
  },
  {
   "cell_type": "code",
   "execution_count": 91,
   "id": "e1c2b4fc",
   "metadata": {},
   "outputs": [
    {
     "name": "stdout",
     "output_type": "stream",
     "text": [
      "['From']\n",
      "[]\n"
     ]
    }
   ],
   "source": [
    "d1 = 'From time to time she was instructed by her mentor to study hard.' \n",
    "d2 = 'Time to time she was instructed by her mentor to study hard.'\n",
    "s = '^From'\n",
    "print(re.findall(s, d1))\n",
    "print(re.findall(s, d2))"
   ]
  },
  {
   "cell_type": "markdown",
   "id": "9f4e3ab7",
   "metadata": {},
   "source": [
    "## Dollar Sign as a meta character '$'\n",
    "It checks for the matching string at the end of the document or sentence or any location followed by the newliner i.e \\n"
   ]
  },
  {
   "cell_type": "code",
   "execution_count": 93,
   "id": "8cd42382",
   "metadata": {},
   "outputs": [
    {
     "name": "stdout",
     "output_type": "stream",
     "text": [
      "None\n",
      "<re.Match object; span=(6, 7), match='}'>\n",
      "<re.Match object; span=(6, 7), match='}'>\n"
     ]
    }
   ],
   "source": [
    "d1 = '{block} ' \n",
    "d2 = '{block}'\n",
    "d3 = '{block}\\n'\n",
    "s = '}$'\n",
    "print(re.search(s, d1))\n",
    "print(re.search(s, d2))\n",
    "print(re.search(s, d3))"
   ]
  },
  {
   "cell_type": "markdown",
   "id": "06951dfc",
   "metadata": {},
   "source": [
    "## () round brackets/paranthesis Meta character \n",
    "- used for searching for a group of specified characters i.e 'the', "
   ]
  },
  {
   "cell_type": "code",
   "execution_count": 106,
   "id": "b2150dfa",
   "metadata": {},
   "outputs": [
    {
     "name": "stdout",
     "output_type": "stream",
     "text": [
      "(0, 6) Thethe\n",
      "(13, 16) the\n",
      "(40, 43) the\n",
      "(52, 64) thethethethe\n",
      "(92, 95) the\n",
      "(103, 112) thethethe\n"
     ]
    }
   ],
   "source": [
    "d = 'Thethe hotel the room was so dirty that they wished thethethethe would have opted for some other place thethethe.'\n",
    "s = re.compile('(the)+', re.IGNORECASE)\n",
    "for m in s.finditer(d):\n",
    "    print(m.span(), m.group())"
   ]
  },
  {
   "cell_type": "markdown",
   "id": "df97a0fe",
   "metadata": {},
   "source": [
    "# Pattern or String replacement or modification"
   ]
  },
  {
   "cell_type": "markdown",
   "id": "441f9232",
   "metadata": {},
   "source": [
    "## split()\n",
    "To divide the string depending upon the given regular expression"
   ]
  },
  {
   "cell_type": "code",
   "execution_count": 109,
   "id": "ac31d58b",
   "metadata": {},
   "outputs": [
    {
     "data": {
      "text/plain": [
       "['Mango', 'Orange', 'Apple', 'Chikoo', 'Banana', 'Pineapple']"
      ]
     },
     "execution_count": 109,
     "metadata": {},
     "output_type": "execute_result"
    }
   ],
   "source": [
    "d = 'Mango,Orange,Apple,Chikoo,Banana,Pineapple'\n",
    "m = re.split(',', d)\n",
    "m"
   ]
  },
  {
   "cell_type": "code",
   "execution_count": 110,
   "id": "8f5c8c02",
   "metadata": {},
   "outputs": [
    {
     "data": {
      "text/plain": [
       "['Mango', 'Orange', 'Apple', 'Chikoo', 'Banana', 'Pineapple']"
      ]
     },
     "execution_count": 110,
     "metadata": {},
     "output_type": "execute_result"
    }
   ],
   "source": [
    "d = 'Mango Orange Apple Chikoo Banana Pineapple'\n",
    "m = re.split(' ', d)\n",
    "m"
   ]
  },
  {
   "cell_type": "code",
   "execution_count": 111,
   "id": "df62c269",
   "metadata": {},
   "outputs": [
    {
     "data": {
      "text/plain": [
       "['Mang', '', 'rangeAppleChik', '', 'BananaPineapple']"
      ]
     },
     "execution_count": 111,
     "metadata": {},
     "output_type": "execute_result"
    }
   ],
   "source": [
    "d = 'MangoOrangeAppleChikooBananaPineapple'\n",
    "s = re.compile('o', re.IGNORECASE)\n",
    "m = s.split(d)\n",
    "m"
   ]
  },
  {
   "cell_type": "markdown",
   "id": "fc827e24",
   "metadata": {},
   "source": [
    "### \\W is used to represent a class without a-zA-Z0-9_"
   ]
  },
  {
   "cell_type": "code",
   "execution_count": 114,
   "id": "838efe7e",
   "metadata": {},
   "outputs": [
    {
     "name": "stdout",
     "output_type": "stream",
     "text": [
      "['The', 'girls', 'were', '7928', 'so', 'excited', '4', 'that', 'they', 'wished', 'to', 'have', 'a', 'party', '']\n"
     ]
    }
   ],
   "source": [
    "d = 'The girls, were%&^^7928*** so excited ##4$$that they .....wished $to have a party!.'\n",
    "s = re.compile('\\W+')\n",
    "m = s.split(d)\n",
    "print(m)"
   ]
  },
  {
   "cell_type": "markdown",
   "id": "9e05250d",
   "metadata": {},
   "source": [
    "## sub() i.e substitute"
   ]
  },
  {
   "cell_type": "code",
   "execution_count": 121,
   "id": "a1a30980",
   "metadata": {},
   "outputs": [
    {
     "data": {
      "text/plain": [
       "'He had three different color cars.'"
      ]
     },
     "execution_count": 121,
     "metadata": {},
     "output_type": "execute_result"
    }
   ],
   "source": [
    "d = 'He had red, blue, orange and Yellow cars.'\n",
    "s = re.compile('(red,\\sblue,\\sorange\\s|and\\syellow)+', re.IGNORECASE)\n",
    "s.sub('three different color', d)"
   ]
  },
  {
   "cell_type": "code",
   "execution_count": 139,
   "id": "7236b21c",
   "metadata": {},
   "outputs": [
    {
     "data": {
      "text/plain": [
       "'Reema is a sweet girl. She loves music.'"
      ]
     },
     "execution_count": 139,
     "metadata": {},
     "output_type": "execute_result"
    }
   ],
   "source": [
    "#remove multiple whitespaces in to a single and also remove white space from beginning and the end\n",
    "d = '    Reema    is a   sweet girl.    She   loves   music.  '\n",
    "s = re.compile('(\\s)+')  ##any space in the string\n",
    "s2 = re.compile('(^ | $)+')   ##only at the beginning and at the end\n",
    "s2.sub(\"\", s.sub(' ',d)) ##first reduce the no. of spaces to single space and then remove spaces from end and start"
   ]
  },
  {
   "cell_type": "code",
   "execution_count": null,
   "id": "b9d9288a",
   "metadata": {},
   "outputs": [],
   "source": []
  }
 ],
 "metadata": {
  "kernelspec": {
   "display_name": "Python 3",
   "language": "python",
   "name": "python3"
  },
  "language_info": {
   "codemirror_mode": {
    "name": "ipython",
    "version": 3
   },
   "file_extension": ".py",
   "mimetype": "text/x-python",
   "name": "python",
   "nbconvert_exporter": "python",
   "pygments_lexer": "ipython3",
   "version": "3.8.8"
  }
 },
 "nbformat": 4,
 "nbformat_minor": 5
}
